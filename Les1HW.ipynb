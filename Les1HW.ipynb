{
  "nbformat": 4,
  "nbformat_minor": 0,
  "metadata": {
    "colab": {
      "name": "Les1HW.ipynb",
      "provenance": [],
      "collapsed_sections": []
    },
    "kernelspec": {
      "display_name": "Python 3",
      "language": "python",
      "name": "python3"
    },
    "language_info": {
      "codemirror_mode": {
        "name": "ipython",
        "version": 3
      },
      "file_extension": ".py",
      "mimetype": "text/x-python",
      "name": "python",
      "nbconvert_exporter": "python",
      "pygments_lexer": "ipython3",
      "version": "3.7.6"
    }
  },
  "cells": [
    {
      "cell_type": "code",
      "metadata": {
        "colab_type": "code",
        "id": "ak8b3KV45kVW",
        "colab": {}
      },
      "source": [
        "import numpy as np\n",
        "import matplotlib.pyplot as plt"
      ],
      "execution_count": 1,
      "outputs": []
    },
    {
      "cell_type": "code",
      "metadata": {
        "colab_type": "code",
        "id": "VsNrKi1Q6Wmh",
        "colab": {}
      },
      "source": [
        "y = [45, 55, 50, 59, 65, 35, 75, 80, 50, 60]"
      ],
      "execution_count": 8,
      "outputs": []
    },
    {
      "cell_type": "code",
      "metadata": {
        "colab_type": "code",
        "id": "i77tZbAd5plB",
        "colab": {}
      },
      "source": [
        "# y = k*x + b\n",
        "# y = k_1*x_1 + k_2*x_2 + ... + b\n",
        "\n",
        "X = np.array([[1, 1, 1, 1, 1, 1, 1, 1, 1, 1],\n",
        "              [1, 1, 2, 1, 3, 0, 5, 10, 1, 2]])"
      ],
      "execution_count": 9,
      "outputs": []
    },
    {
      "cell_type": "code",
      "metadata": {
        "colab_type": "code",
        "id": "BoU7Rm_1DPQq",
        "colab": {}
      },
      "source": [
        "def calc_mse(y, y_pred):\n",
        "    err = np.mean((y - y_pred)**2)\n",
        "    return err"
      ],
      "execution_count": 14,
      "outputs": []
    },
    {
      "cell_type": "markdown",
      "metadata": {
        "colab_type": "text",
        "id": "huXrhXQsZTMt"
      },
      "source": [
        "1. Подберите скорость обучения (alpha) и количество итераций:"
      ]
    },
    {
      "cell_type": "code",
      "metadata": {
        "colab_type": "code",
        "id": "VEXjDozNHdAo",
        "colab": {
          "base_uri": "https://localhost:8080/",
          "height": 34
        },
        "outputId": "ec2817b3-f306-4d40-adaf-59eb2cfde671"
      },
      "source": [
        "n = X.shape[1]\n",
        "alpha = 1e-4\n",
        "W = np.array([1, 0.5])\n",
        "W, alpha"
      ],
      "execution_count": 18,
      "outputs": [
        {
          "output_type": "execute_result",
          "data": {
            "text/plain": [
              "(array([1. , 0.5]), 0.0001)"
            ]
          },
          "metadata": {
            "tags": []
          },
          "execution_count": 18
        }
      ]
    },
    {
      "cell_type": "code",
      "metadata": {
        "id": "zIRwHFqE8_XX",
        "colab_type": "code",
        "colab": {}
      },
      "source": [
        "iter = 1000"
      ],
      "execution_count": 5,
      "outputs": []
    },
    {
      "cell_type": "code",
      "metadata": {
        "id": "craJOejALhbd",
        "colab_type": "code",
        "colab": {}
      },
      "source": [
        "alpha_list = [1e-2, 1e-3, 1e-4, 1e-5, 1e-6, 1e-7]"
      ],
      "execution_count": 6,
      "outputs": []
    },
    {
      "cell_type": "code",
      "metadata": {
        "colab_type": "code",
        "id": "IDB22MQKMYaJ",
        "colab": {}
      },
      "source": [
        "finlist = []\n",
        "for elem in alpha_list: \n",
        "  alpha = elem\n",
        "  n = X.shape[1]\n",
        "\n",
        "  W = np.array([1, 0.5])\n",
        "  iter = 1000\n",
        "  list_of_iter = []\n",
        "  list_of_err = []\n",
        "  for i in range(iter):\n",
        "      y_pred = np.dot(W, X)\n",
        "      err = calc_mse(y, y_pred)\n",
        "      for ii in range(W.shape[0]):\n",
        "          W[ii] -= alpha * (1/n * 2 * np.sum(X[ii] * (y_pred - y)))\n",
        "      list_of_iter.append(i)\n",
        "      list_of_err.append(err)\n",
        "  pair = (list_of_iter, list_of_err)\n",
        "  finlist.append(pair)"
      ],
      "execution_count": 15,
      "outputs": []
    },
    {
      "cell_type": "code",
      "metadata": {
        "id": "sT6IW37o9Gyk",
        "colab_type": "code",
        "colab": {
          "base_uri": "https://localhost:8080/",
          "height": 283
        },
        "outputId": "d6e18bd0-b899-48f6-d5d4-70aa010a4bbf"
      },
      "source": [
        "for i in range(len(finlist)):\n",
        "  plt.plot(finlist[i][0], finlist[i][1], label=alpha_list[i])\n",
        "plt.legend()"
      ],
      "execution_count": 16,
      "outputs": [
        {
          "output_type": "execute_result",
          "data": {
            "text/plain": [
              "<matplotlib.legend.Legend at 0x7f666c3b99e8>"
            ]
          },
          "metadata": {
            "tags": []
          },
          "execution_count": 16
        },
        {
          "output_type": "display_data",
          "data": {
            "image/png": "[encoded data removed]",
            "text/plain": [
              "<Figure size 432x288 with 1 Axes>"
            ]
          },
          "metadata": {
            "tags": [],
            "needs_background": "light"
          }
        }
      ]
    },
    {
      "cell_type": "markdown",
      "metadata": {
        "id": "6FWYGgRDNEVu",
        "colab_type": "text"
      },
      "source": [
        "#Выводы\n",
        "\n",
        "Очевидно, что в данном конкретном случае, можно пользоваться высокой скоростью обучения. На скорости в $0.01$ вполне достаточно 220 итераций для выхода на устойчивое плато."
      ]
    },
    {
      "cell_type": "markdown",
      "metadata": {
        "colab_type": "text",
        "id": "5Qu1o4JhZYwI"
      },
      "source": [
        "*2. В этом коде мы избавляемся от итераций по весам, но тут есть ошибка, исправьте ее:"
      ]
    },
    {
      "cell_type": "code",
      "metadata": {
        "colab_type": "code",
        "id": "WZZzDCQLY4pA",
        "colab": {
          "base_uri": "https://localhost:8080/",
          "height": 185
        },
        "outputId": "5a4faf53-d29c-4c67-9782-4a193fb82170"
      },
      "source": [
        "for i in range(1000):\n",
        "    y_pred = np.dot(W, X)\n",
        "    err = calc_mse(y, y_pred)\n",
        "    W -= (alpha * (1/n * 2 * np.sum(X * (y_pred - y), axis=1)))\n",
        "    if i % 100 == 0:\n",
        "        print(i, W, err)"
      ],
      "execution_count": 19,
      "outputs": [
        {
          "output_type": "stream",
          "text": [
            "0 [1.01102 0.534  ] 3173.15\n",
            "100 [2.02168794 3.452835  ] 2207.6942101483005\n",
            "200 [2.88306663 5.58962851] 1670.7027004086372\n",
            "300 [3.63289519 7.14848061] 1368.0832412796256\n",
            "400 [4.29908617 8.28027926] 1193.7493344933293\n",
            "500 [4.90228732 9.09657298] 1089.714750358689\n",
            "600 [5.45777535 9.67982684] 1024.2828984889416\n",
            "700 [ 5.97685612 10.0910047 ] 980.1260644155933\n",
            "800 [ 6.46789973 10.37517467] 947.770026039189\n",
            "900 [ 6.93710574 10.56565326] 922.0330206910178\n"
          ],
          "name": "stdout"
        }
      ]
    },
    {
      "cell_type": "code",
      "metadata": {
        "colab_type": "code",
        "id": "kGLyytFgHdco",
        "colab": {}
      },
      "source": [
        ""
      ],
      "execution_count": null,
      "outputs": []
    }
  ]
}