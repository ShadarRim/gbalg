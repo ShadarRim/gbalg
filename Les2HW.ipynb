{
  "nbformat": 4,
  "nbformat_minor": 0,
  "metadata": {
    "colab": {
      "name": "Les2HW.ipynb",
      "provenance": []
    },
    "kernelspec": {
      "name": "python3",
      "display_name": "Python 3"
    }
  },
  "cells": [
    {
      "cell_type": "markdown",
      "metadata": {
        "id": "8gFtLImV8Bqj",
        "colab_type": "text"
      },
      "source": [
        "Сгенерировать датасет при помощи sklearn.datasets.make_regression и обучить линейную модель при помощи градиентного и стохастического градиентного спуска. Нанести среднеквадратичную ошибку для обоих методов на один график, сделать выводы о разнице скорости сходимости каждого из методов."
      ]
    },
    {
      "cell_type": "code",
      "metadata": {
        "id": "ZQs15c3z67IA",
        "colab_type": "code",
        "colab": {}
      },
      "source": [
        "import numpy as np\n",
        "from sklearn import datasets\n",
        "import matplotlib.pyplot as plt\n",
        "from tqdm import tqdm\n",
        "\n",
        "%matplotlib inline"
      ],
      "execution_count": null,
      "outputs": []
    },
    {
      "cell_type": "code",
      "metadata": {
        "id": "myNicbOhyBYz",
        "colab_type": "code",
        "colab": {}
      },
      "source": [
        "X, y, _ = datasets.make_regression(n_samples=1000, n_features=5, n_targets=1,noise=10, coef=True, random_state=1)"
      ],
      "execution_count": null,
      "outputs": []
    },
    {
      "cell_type": "code",
      "metadata": {
        "id": "7aGHvC-39cWw",
        "colab_type": "code",
        "colab": {}
      },
      "source": [
        "def calc_mse(y, y_pred):\n",
        "    err = np.mean((y - y_pred)**2)\n",
        "    return err"
      ],
      "execution_count": null,
      "outputs": []
    },
    {
      "cell_type": "code",
      "metadata": {
        "id": "a7cTAz7ZcXCQ",
        "colab_type": "code",
        "colab": {}
      },
      "source": [
        "def sgd(X, y, batch_size, lr = 0.01, iter = 1000, max_er = 1e-5):\n",
        "    \n",
        "    weights = np.random.randn(X.shape[1])\n",
        "    errors_history, weights_history = [calc_mse(y, np.dot(weights, X.T))], [weights]\n",
        "    n_batches = len(y) // batch_size\n",
        "\n",
        "    if len(y) % batch_size:\n",
        "        n_batches += 1\n",
        "\n",
        "    for n_iter in range(iter):\n",
        "        for b in range(n_batches):\n",
        "            x_batch = X[b*batch_size:(b+1)*batch_size]\n",
        "            y_batch = y[b*batch_size:(b+1)*batch_size]\n",
        "\n",
        "            y_pred = np.dot(weights, x_batch.T)\n",
        "            current_error = calc_mse(y_batch, y_pred)\n",
        "            weights -= 2*lr*np.sum(x_batch.T*(y_pred - y_batch), axis=1)/len(y_pred)\n",
        "        errors_history.append(current_error)\n",
        "        weights_history.append(weights)\n",
        "\n",
        "        if n_iter > 2 and np.abs(current_error - errors_history[-2]) < max_er:\n",
        "            break\n",
        "        \n",
        "    return weights, weights_history, errors_history"
      ],
      "execution_count": null,
      "outputs": []
    },
    {
      "cell_type": "code",
      "metadata": {
        "id": "Uh2duWWreImd",
        "colab_type": "code",
        "colab": {
          "base_uri": "https://localhost:8080/",
          "height": 119
        },
        "outputId": "f54dc86a-ba32-46c2-8221-ef1376b4e38f"
      },
      "source": [
        "w_res, _, err_list_sgd = sgd(X, y, iter=100, lr=1e-2, batch_size=1)\n",
        "print(w_res)\n",
        "w_res, _, err_list_mgd_5 = sgd(X, y, iter=100, lr=1e-2, batch_size=5)\n",
        "print(w_res)\n",
        "w_res, _, err_list_mgd_10 = sgd(X, y, iter=100, lr=1e-2, batch_size=10)\n",
        "print(w_res)\n",
        "w_res, _, err_list_mgd_20 = sgd(X, y, iter=100, lr=1e-2, batch_size=20)\n",
        "print(w_res)\n",
        "w_res, _, err_list_mgd_50 = sgd(X, y, iter=100, lr=1e-2, batch_size=50)\n",
        "print(w_res)\n",
        "w_res, _, err_list_gd = sgd(X, y, iter=100, lr=1e-2, batch_size=1000)\n",
        "print(w_res)"
      ],
      "execution_count": null,
      "outputs": [
        {
          "output_type": "stream",
          "text": [
            "[72.92137995 10.53630365  5.03804127 32.20842858 30.37064484]\n",
            "[72.4119232   8.92971215  6.40884248 32.68357756 30.9791125 ]\n",
            "[72.46442575  8.65319974  6.65979394 32.86793491 31.09151552]\n",
            "[72.5350276   8.53169329  6.77174672 32.92752344 31.15933651]\n",
            "[72.58897498  8.47159478  6.82535368 32.93953977 31.2061684 ]\n",
            "[61.26825871  6.51639764  6.16987854 29.38509291 26.96320542]\n"
          ],
          "name": "stdout"
        }
      ]
    },
    {
      "cell_type": "code",
      "metadata": {
        "id": "7m1tVOLOnDAA",
        "colab_type": "code",
        "colab": {
          "base_uri": "https://localhost:8080/",
          "height": 282
        },
        "outputId": "43a66a5e-d8cb-49a2-c000-b2f0bb2cc0aa"
      },
      "source": [
        "plt.plot(err_list_sgd, label = 'sgd')\n",
        "plt.plot(err_list_mgd_5, label = 'mgd_5')\n",
        "plt.plot(err_list_mgd_10, label = 'mgd_10')\n",
        "plt.plot(err_list_mgd_20, label = 'mgd_20')\n",
        "plt.plot(err_list_mgd_50, label = 'mgd_50')\n",
        "plt.plot(err_list_gd, label = 'gd')\n",
        "plt.legend()\n",
        "plt.xlim(0, 40)"
      ],
      "execution_count": null,
      "outputs": [
        {
          "output_type": "execute_result",
          "data": {
            "text/plain": [
              "(0.0, 40.0)"
            ]
          },
          "metadata": {
            "tags": []
          },
          "execution_count": 197
        },
        {
          "output_type": "display_data",
          "data": {
            "image/png": "[encoded data removed]",
            "text/plain": [
              "<Figure size 432x288 with 1 Axes>"
            ]
          },
          "metadata": {
            "tags": [],
            "needs_background": "light"
          }
        }
      ]
    },
    {
      "cell_type": "markdown",
      "metadata": {
        "id": "ljY8kL3d8m2w",
        "colab_type": "text"
      },
      "source": [
        "# Выводы по первому заданию\n",
        "SGD сходитcя быстрее всего. Дальше, всё зависит от размера батча. Чем больше батч, тем быстрее сходимость. "
      ]
    },
    {
      "cell_type": "markdown",
      "metadata": {
        "id": "MXmj4rcOBQ9I",
        "colab_type": "text"
      },
      "source": [
        "Модифицировать решение первого задания путем добавления $𝐿_2$-регуляризации (в функцию, считающую MSE, нужно добавить норму вектора весов) и сравнить результаты."
      ]
    },
    {
      "cell_type": "code",
      "metadata": {
        "id": "1PoRQyG6vDcJ",
        "colab_type": "code",
        "colab": {}
      },
      "source": [
        "def sgd_l2(X, y, batch_size, lr = 0.01, iter = 1000, max_er = 1e-5, l = 0.01):\n",
        "    \n",
        "    weights = np.random.randn(X.shape[1])\n",
        "    errors_history, weights_history = [calc_mse(y, np.dot(weights, X.T))], [weights]\n",
        "    n_batches = len(y) // batch_size\n",
        "\n",
        "    if len(y) % batch_size:\n",
        "        n_batches += 1\n",
        "\n",
        "    for n_iter in range(iter):\n",
        "        for b in range(n_batches):\n",
        "            x_batch = X[b*batch_size:(b+1)*batch_size]\n",
        "            y_batch = y[b*batch_size:(b+1)*batch_size]\n",
        "\n",
        "            y_pred = np.dot(weights, x_batch.T)\n",
        "            current_error = calc_mse(y_batch, y_pred)\n",
        "            weights -= 2*lr*np.sum(x_batch.T*(y_pred - y_batch), axis=1)/len(y_pred) + 2*l*weights\n",
        "        errors_history.append(current_error)\n",
        "        weights_history.append(weights)\n",
        "\n",
        "        if n_iter > 2 and np.abs(current_error - errors_history[-2]) < max_er:\n",
        "            break\n",
        "        \n",
        "    return weights, weights_history, errors_history"
      ],
      "execution_count": null,
      "outputs": []
    },
    {
      "cell_type": "code",
      "metadata": {
        "id": "QcsKJj2TvWZL",
        "colab_type": "code",
        "colab": {
          "base_uri": "https://localhost:8080/",
          "height": 119
        },
        "outputId": "d0783b12-d158-405e-d1ba-cef30b68be3f"
      },
      "source": [
        "w_res, _, err_list_sgd = sgd_l2(X, y, iter=100, lr=1e-2, batch_size=1)\n",
        "print(w_res)\n",
        "w_res, _, err_list_mgd_5 = sgd_l2(X, y, iter=100, lr=1e-2, batch_size=5)\n",
        "print(w_res)\n",
        "w_res, _, err_list_mgd_10 = sgd_l2(X, y, iter=100, lr=1e-2, batch_size=10)\n",
        "print(w_res)\n",
        "w_res, _, err_list_mgd_20 = sgd_l2(X, y, iter=100, lr=1e-2, batch_size=20)\n",
        "print(w_res)\n",
        "w_res, _, err_list_mgd_50 = sgd_l2(X, y, iter=100, lr=1e-2, batch_size=50)\n",
        "print(w_res)\n",
        "w_res, _, err_list_gd = sgd_l2(X, y, iter=100, lr=1e-2, batch_size=1000)\n",
        "print(w_res)"
      ],
      "execution_count": null,
      "outputs": [
        {
          "output_type": "stream",
          "text": [
            "[36.71261579  5.95185433  6.82493877 22.42856141 16.90788805]\n",
            "[35.08420888  4.51112746  5.94593001 18.61008706 15.38889295]\n",
            "[34.67791715  4.0248063   4.92863288 18.03786236 15.39588125]\n",
            "[34.71352521  3.75033205  4.24631199 17.75180638 15.37878057]\n",
            "[34.87036352  3.56505922  3.85514704 17.47800624 15.37459181]\n",
            "[34.26291226  3.34793578  3.60635379 17.05892303 15.10596611]\n"
          ],
          "name": "stdout"
        }
      ]
    },
    {
      "cell_type": "code",
      "metadata": {
        "id": "DVjJthz1vXk4",
        "colab_type": "code",
        "colab": {
          "base_uri": "https://localhost:8080/",
          "height": 282
        },
        "outputId": "4482f886-4d41-4f44-f1e0-53b9db6d3b8b"
      },
      "source": [
        "plt.plot(err_list_sgd, label = 'sgd')\n",
        "plt.plot(err_list_mgd_5, label = 'mgd_5')\n",
        "plt.plot(err_list_mgd_10, label = 'mgd_10')\n",
        "plt.plot(err_list_mgd_20, label = 'mgd_20')\n",
        "plt.plot(err_list_mgd_50, label = 'mgd_50')\n",
        "plt.plot(err_list_gd, label = 'gd')\n",
        "plt.legend()\n",
        "plt.xlim(0, 40)"
      ],
      "execution_count": null,
      "outputs": [
        {
          "output_type": "execute_result",
          "data": {
            "text/plain": [
              "(0.0, 40.0)"
            ]
          },
          "metadata": {
            "tags": []
          },
          "execution_count": 200
        },
        {
          "output_type": "display_data",
          "data": {
            "image/png": "[encoded data removed]",
            "text/plain": [
              "<Figure size 432x288 with 1 Axes>"
            ]
          },
          "metadata": {
            "tags": [],
            "needs_background": "light"
          }
        }
      ]
    },
    {
      "cell_type": "markdown",
      "metadata": {
        "id": "IKuAGcZOBSni",
        "colab_type": "text"
      },
      "source": [
        "# Выводы по 2 заданию\n",
        "\n",
        "Всё сходится быстрее, но значение mse на котормо происходит \"схождени\" выше."
      ]
    }
  ]
}