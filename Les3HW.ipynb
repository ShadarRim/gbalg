{
  "nbformat": 4,
  "nbformat_minor": 0,
  "metadata": {
    "colab": {
      "name": "Les3HW.ipynb",
      "provenance": []
    },
    "kernelspec": {
      "name": "python3",
      "display_name": "Python 3"
    }
  },
  "cells": [
    {
      "cell_type": "code",
      "metadata": {
        "id": "5AAxMHbhsu_8",
        "colab_type": "code",
        "colab": {}
      },
      "source": [
        "import numpy as np\n",
        "import matplotlib.pyplot as plt"
      ],
      "execution_count": null,
      "outputs": []
    },
    {
      "cell_type": "markdown",
      "metadata": {
        "id": "RiWJm9IFtZar",
        "colab_type": "text"
      },
      "source": [
        "## 1. Измените функцию calc_logloss так, чтобы нули по возможности не попадали в np.log.\n",
        "\n",
        "Нули - это когда значение `y_pred` равно 0 или 1. По-этому обрезаем справа и слева."
      ]
    },
    {
      "cell_type": "code",
      "metadata": {
        "id": "KBijl1dis-Pj",
        "colab_type": "code",
        "colab": {}
      },
      "source": [
        "def calc_logloss(y, y_pred):\n",
        "    eps = 1e-2\n",
        "    y_pred_clip = np.clip(y_pred.copy(), eps, 1-eps)\n",
        "    err = - np.mean(y * np.log(y_pred_clip) + (1.0 - y) * np.log(1.0 - y_pred_clip))\n",
        "    return err"
      ],
      "execution_count": null,
      "outputs": []
    },
    {
      "cell_type": "markdown",
      "metadata": {
        "id": "4QMr-otEt18b",
        "colab_type": "text"
      },
      "source": [
        "# 2. Подберите аргументы функции eval_model для логистической регрессии таким образом, чтобы log loss был минимальным."
      ]
    },
    {
      "cell_type": "code",
      "metadata": {
        "id": "K7VExhErwf5U",
        "colab_type": "code",
        "colab": {}
      },
      "source": [
        "X = np.array([[1, 1, 1, 1, 1, 1, 1, 1, 1, 1],\n",
        "              [1, 1, 2, 1, 3, 0, 5, 10, 1, 2],\n",
        "              [500, 700, 750, 600, 1450,\n",
        "               800, 1500, 2000, 450, 1000],\n",
        "              [1, 1, 2, 1, 2, \n",
        "               1, 3, 3, 1, 2]], dtype = np.float64)\n",
        "\n",
        "y = np.array([0, 0, 1, 0, 1, 0, 1, 0, 1, 1], dtype = np.float64)"
      ],
      "execution_count": null,
      "outputs": []
    },
    {
      "cell_type": "code",
      "metadata": {
        "id": "DVKy3mFYaSGa",
        "colab_type": "code",
        "colab": {}
      },
      "source": [
        "def std_transform(X):\n",
        "  X_transformed = X[1:, ].copy()\n",
        "  X_m = X_transformed.mean(axis=1).reshape(X_transformed.shape[0], 1)\n",
        "  X_st = X_transformed.std(axis=1).reshape(X_transformed.shape[0], 1)\n",
        "\n",
        "  X_transformed = (X_transformed - X_m) / X_st\n",
        "  X_transformed = np.vstack([np.ones(X_transformed.shape[1]), X_transformed])\n",
        "\n",
        "  return X_transformed"
      ],
      "execution_count": null,
      "outputs": []
    },
    {
      "cell_type": "code",
      "metadata": {
        "id": "yXohfykiv6_l",
        "colab_type": "code",
        "colab": {}
      },
      "source": [
        "def sigmoid(z):\n",
        "    res = 1 / (1 + np.exp(-z))\n",
        "    return res"
      ],
      "execution_count": null,
      "outputs": []
    },
    {
      "cell_type": "code",
      "metadata": {
        "id": "_a6zPVPG0A52",
        "colab_type": "code",
        "colab": {}
      },
      "source": [
        "def eval_model(X, y, iterations, alpha=1e-4):\n",
        "    np.random.seed(42)\n",
        "    W = np.random.randn(X.shape[0])\n",
        "    n = X.shape[1]\n",
        "\n",
        "    errors, weights = [], [W]\n",
        "\n",
        "    for i in range(1, iterations+1):\n",
        "        z = np.dot(W, X)\n",
        "        y_pred = sigmoid(z)\n",
        "        err = calc_logloss(y, y_pred)\n",
        "        W -= alpha * (1/n * np.dot((y_pred - y), X.T))\n",
        "\n",
        "        errors.append(err)\n",
        "        weights.append(W)\n",
        "\n",
        "    if i % (iterations / 10) == 0:\n",
        "        print(i, W, err)\n",
        "    return errors, weights"
      ],
      "execution_count": null,
      "outputs": []
    },
    {
      "cell_type": "code",
      "metadata": {
        "id": "BA9vg6zpwQTo",
        "colab_type": "code",
        "colab": {
          "base_uri": "https://localhost:8080/",
          "height": 392
        },
        "outputId": "5fb0b14c-4c59-4df3-db4a-cc99db4fc6d9"
      },
      "source": [
        "X = std_transform(X)\n",
        "\n",
        "for a in [0.1, 1e-2, 1e-3, 1e-4, 1e-5, 1e-6]:\n",
        "  #err, _ = eval_model_new(X, y, alpha = a)\n",
        "  err, _ = eval_model(X, y, 10000, a)\n",
        "  #print(err)\n",
        "  plt.plot(err, label=a)\n",
        "\n",
        "plt.legend()"
      ],
      "execution_count": 11,
      "outputs": [
        {
          "output_type": "stream",
          "text": [
            "10000 [ 2.48428253 -6.06769399 -5.34752279 13.29132815] 0.18213279988094094\n",
            "10000 [ 0.37709968 -2.73927415 -1.18092674  4.58661313] 0.31007008824526155\n",
            "10000 [ 0.0926064  -1.1604244  -0.12471545  1.70919609] 0.4612422941203163\n",
            "10000 [ 0.44881007 -0.37237626  0.43601001  1.42113302] 0.6511273656414657\n",
            "10000 [ 0.49298562 -0.16321512  0.62468779  1.5109743 ] 0.7507413459865621\n",
            "10000 [ 0.49635334 -0.14077361  0.64537114  1.52180641] 0.7625193428485314\n"
          ],
          "name": "stdout"
        },
        {
          "output_type": "execute_result",
          "data": {
            "text/plain": [
              "<matplotlib.legend.Legend at 0x7f67823ce470>"
            ]
          },
          "metadata": {
            "tags": []
          },
          "execution_count": 11
        },
        {
          "output_type": "display_data",
          "data": {
            "image/png": "[encoded data removed]",
            "text/plain": [
              "<Figure size 432x288 with 1 Axes>"
            ]
          },
          "metadata": {
            "tags": [],
            "needs_background": "light"
          }
        }
      ]
    },
    {
      "cell_type": "markdown",
      "metadata": {
        "id": "jztljEI91OUh",
        "colab_type": "text"
      },
      "source": [
        "### Этот тест был тут размещён в первой версии сданной ДЗ, которая появилась до момента, когда яв меняем разобрался со стандратизацией выборки\n",
        "`ver 1` Здесь из-за входных данных происходит полный бардак. \"Обрезка\" нулей и едиинц приводит к тому, что функция скачет на краях, видимо. Иначе не знаю в чём дело. \n",
        "\n",
        "### Этот текст уже после стандартизации\n",
        "`ver 2` Всё досаточно тривиально - чем больше обучающая выборка, тем быстрее сходится алгоритм. Пр всей видимости, сходится он до момента, пока не переобучится полностью. Как он может переобучится сказанно далее по тексту. "
      ]
    },
    {
      "cell_type": "markdown",
      "metadata": {
        "id": "e_t4grO-2Dwq",
        "colab_type": "text"
      },
      "source": [
        "## 3. Создайте функцию calc_pred_proba, возвращающую предсказанную вероятность класса 1 (на вход подаются W, который уже посчитан функцией eval_model и X, на выходе - массив y_pred_proba)."
      ]
    },
    {
      "cell_type": "code",
      "metadata": {
        "id": "EZrWgBsT2D9y",
        "colab_type": "code",
        "colab": {}
      },
      "source": [
        "def calc_pred_proba(W, X):\n",
        "  return 1/(1+np.exp(-np.dot(W,X)))"
      ],
      "execution_count": null,
      "outputs": []
    },
    {
      "cell_type": "markdown",
      "metadata": {
        "id": "92yG0jqX2dzR",
        "colab_type": "text"
      },
      "source": [
        "## 4. Создайте функцию calc_pred, возвращающую предсказанный класс (на вход подаются W, который уже посчитан функцией eval_model и X, на выходе - массив y_pred)."
      ]
    },
    {
      "cell_type": "code",
      "metadata": {
        "id": "WqFDHqNO2sQP",
        "colab_type": "code",
        "colab": {}
      },
      "source": [
        "def calc_pred(W, X, b):\n",
        "  y_pred = calc_pred_proba(W,X)\n",
        "  y_pred = np.where(y_pred > b, 1, 0)"
      ],
      "execution_count": null,
      "outputs": []
    },
    {
      "cell_type": "markdown",
      "metadata": {
        "id": "oYdSE41j3LC4",
        "colab_type": "text"
      },
      "source": [
        "## 5. Посчитайте Accuracy, матрицу ошибок, точность и полноту, а также F1 score."
      ]
    },
    {
      "cell_type": "code",
      "metadata": {
        "id": "_CWgPMe53USZ",
        "colab_type": "code",
        "colab": {}
      },
      "source": [
        "def accuracy(y, y_pred):\n",
        "  return sum(y==y_pred)/y.shape[0]"
      ],
      "execution_count": null,
      "outputs": []
    },
    {
      "cell_type": "code",
      "metadata": {
        "id": "fTul_hnS3pZE",
        "colab_type": "code",
        "colab": {}
      },
      "source": [
        "def conf_mat(y, y_pred):\n",
        "  res = np.zeros([2,2])\n",
        "  res[0,0] = np.sum(np.where(y == 0, y_pred == y, False))\n",
        "  res[1,1] = np.sum(np.where(y == 1, y_pred == y, False))\n",
        "  res[0,1] = np.sum(np.where(y == 0, y_pred != y, False))\n",
        "  res[1,0] = np.sum(np.where(y == 1, y_pred != y, False))\n",
        "\n",
        "  return res"
      ],
      "execution_count": null,
      "outputs": []
    },
    {
      "cell_type": "code",
      "metadata": {
        "id": "wBXiYxEE4WQs",
        "colab_type": "code",
        "colab": {}
      },
      "source": [
        "def prec(y, y_pred):\n",
        "  tn, fp, fn, tp = conf_mat(y, y_pred)\n",
        "  return tp / (tp+fp)"
      ],
      "execution_count": null,
      "outputs": []
    },
    {
      "cell_type": "code",
      "metadata": {
        "id": "j1DFEykq44-B",
        "colab_type": "code",
        "colab": {}
      },
      "source": [
        "def rec(y, y_pred):\n",
        "  tn, fp, fn, tp = conf_mat(y, y_pred)\n",
        "  return rp/(tp+fn)"
      ],
      "execution_count": null,
      "outputs": []
    },
    {
      "cell_type": "code",
      "metadata": {
        "id": "FlvCO7dw5GTS",
        "colab_type": "code",
        "colab": {}
      },
      "source": [
        "def f1(y, y_pred):\n",
        "  p = prec(y, y_pred)\n",
        "  r = rec(y, y_pred)\n",
        "\n",
        "  return 2*p*r/(p+r)"
      ],
      "execution_count": null,
      "outputs": []
    },
    {
      "cell_type": "markdown",
      "metadata": {
        "id": "G2PXrNXI5jqN",
        "colab_type": "text"
      },
      "source": [
        "## 6. Могла ли модель переобучиться? Почему?\n",
        "\n",
        "Да, могла. \n",
        "\n",
        "Представьте себе объекты двух классов, которые смешаны в середние. А теперь тренируем модель до того, что она начинает избирательно огибать каждый новый объект, в том числе и смешанный. В итоге граница окажется слишком точно заточенной под текущий тренировочный набор, не более. "
      ]
    },
    {
      "cell_type": "markdown",
      "metadata": {
        "id": "eYS7L-N36RRH",
        "colab_type": "text"
      },
      "source": [
        "## 7*. Создайте функции eval_model_l1 и eval_model_l2 с применением L1 и L2 регуляризаций соответственно."
      ]
    },
    {
      "cell_type": "code",
      "metadata": {
        "id": "92Y2UHpx5idz",
        "colab_type": "code",
        "colab": {}
      },
      "source": [
        "def eval_model_l2(X, y, iterations, l2, alpha=1e-4):\n",
        "    np.random.seed(42)\n",
        "    W = np.random.randn(X.shape[0])\n",
        "    n = X.shape[1]\n",
        "\n",
        "    errors, weights = [], [W]\n",
        "\n",
        "    for i in range(1, iterations+1):\n",
        "        z = np.dot(W, X)\n",
        "        y_pred = sigmoid(z)\n",
        "        err = calc_logloss(y, y_pred)\n",
        "        W -= alpha * (1/n * np.dot((y_pred - y), X.T)) + 2*l2*W\n",
        "\n",
        "        errors.append(err)\n",
        "        weights.append(W)\n",
        "\n",
        "    if i % (iterations / 10) == 0:\n",
        "        print(i, W, err)\n",
        "    return errors, weights"
      ],
      "execution_count": null,
      "outputs": []
    },
    {
      "cell_type": "code",
      "metadata": {
        "id": "4tw66arN6ecJ",
        "colab_type": "code",
        "colab": {}
      },
      "source": [
        "def eval_model_l1(X, y, iterations, l1, alpha=1e-4):\n",
        "    np.random.seed(42)\n",
        "    W = np.random.randn(X.shape[0])\n",
        "    n = X.shape[1]\n",
        "\n",
        "    errors, weights = [], [W]\n",
        "\n",
        "    for i in range(1, iterations+1):\n",
        "        z = np.dot(W, X)\n",
        "        y_pred = sigmoid(z)\n",
        "        err = calc_logloss(y, y_pred)\n",
        "        W -= alpha * (1/n * np.dot((y_pred - y), X.T)) + 0.5*l1*W/np.abs(W)\n",
        "\n",
        "        errors.append(err)\n",
        "        weights.append(W)\n",
        "\n",
        "    if i % (iterations / 10) == 0:\n",
        "        print(i, W, err)\n",
        "    return errors, weights"
      ],
      "execution_count": null,
      "outputs": []
    }
  ]
}